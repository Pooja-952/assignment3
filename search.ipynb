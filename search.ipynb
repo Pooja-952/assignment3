{
 "cells": [
  {
   "cell_type": "markdown",
   "id": "8e24b2f1-be45-43e3-8346-fe62b649092f",
   "metadata": {},
   "source": [
    "## Q4. Given a sorted array of distinct integers and a target value, return the index if the\n",
    "target is found. If not, return the index where it would be if it were inserted in\n",
    "order.\n",
    "You must write an algorithm with O(log n) runtime complexity."
   ]
  },
  {
   "cell_type": "code",
   "execution_count": null,
   "id": "073eb5a2-422f-4290-91da-4307c7df09a2",
   "metadata": {},
   "outputs": [],
   "source": [
    "def search(nums, target):\n",
    "    left= 0\n",
    "    right= len(nums) - 1\n",
    "    while left <= right:\n",
    "        mid = (left + right)//2\n",
    "    if nums[mid] == target:\n",
    "        return mid\n",
    "    elif nums[mid] < target:\n",
    "        left= mid + 1\n",
    "    else:\n",
    "         right= mid - 1\n",
    "    return left"
   ]
  },
  {
   "cell_type": "code",
   "execution_count": null,
   "id": "860a3772-5820-4747-b279-4bc59e250742",
   "metadata": {},
   "outputs": [],
   "source": [
    "nums= [1,3,5,6]\n",
    "target = 5\n",
    "result= search(nums, target)\n",
    "print(result)"
   ]
  },
  {
   "cell_type": "code",
   "execution_count": null,
   "id": "34670a6e-7a2b-4e76-857d-ae948e2ee7f1",
   "metadata": {},
   "outputs": [],
   "source": []
  },
  {
   "cell_type": "code",
   "execution_count": null,
   "id": "7b295381-c59d-42ae-a215-c8b6128385b7",
   "metadata": {},
   "outputs": [],
   "source": []
  }
 ],
 "metadata": {
  "kernelspec": {
   "display_name": "Python 3 (ipykernel)",
   "language": "python",
   "name": "python3"
  },
  "language_info": {
   "codemirror_mode": {
    "name": "ipython",
    "version": 3
   },
   "file_extension": ".py",
   "mimetype": "text/x-python",
   "name": "python",
   "nbconvert_exporter": "python",
   "pygments_lexer": "ipython3",
   "version": "3.10.6"
  }
 },
 "nbformat": 4,
 "nbformat_minor": 5
}
