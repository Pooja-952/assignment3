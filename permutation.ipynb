{
 "cells": [
  {
   "cell_type": "markdown",
   "id": "c3eb1a33-0058-4093-b7ba-3fb786578cc9",
   "metadata": {},
   "source": [
    "## Q3. Given an array of integers nums, find the next permutation of nums.\n",
    "The replacement must be in place and use only constant extra memory."
   ]
  },
  {
   "cell_type": "code",
   "execution_count": 1,
   "id": "47aa57da-2084-4b5f-a089-3da5f7727b8d",
   "metadata": {},
   "outputs": [],
   "source": [
    "def nextPermutation(nums):\n",
    "    nums.sort()\n",
    "    n= len(nums)\n",
    "    i= len(nums) - 1\n",
    "    while i < 0 and nums[i] <= nums[i-1]:\n",
    "        i-=1 \n",
    "    if i == 0:\n",
    "        nums.reverse()\n",
    "    else:\n",
    "        j= len(nums)- 1\n",
    "        while nums[j] <= nums[j-1]:\n",
    "            j-=1\n",
    "        nums[i-1], nums[j] = nums[j], nums[i-1]\n",
    "        left = i\n",
    "        right= len(nums) - 1\n",
    "        while left < right:\n",
    "            nums[left], nums[right] = nums[right], nums[left]\n",
    "            left +=1\n",
    "            right -=1\n",
    "    return nums         "
   ]
  },
  {
   "cell_type": "code",
   "execution_count": 3,
   "id": "e848bcf5-064f-422f-87a7-e8d5935f95c2",
   "metadata": {},
   "outputs": [
    {
     "name": "stdout",
     "output_type": "stream",
     "text": [
      "[1, 3, 2]\n"
     ]
    }
   ],
   "source": [
    "nums = [1,2,3]\n",
    "result= nextPermutation(nums)\n",
    "print(result)"
   ]
  },
  {
   "cell_type": "code",
   "execution_count": null,
   "id": "3f6e70bd-2456-4f6c-8d8a-892477e93582",
   "metadata": {},
   "outputs": [],
   "source": []
  }
 ],
 "metadata": {
  "kernelspec": {
   "display_name": "Python 3 (ipykernel)",
   "language": "python",
   "name": "python3"
  },
  "language_info": {
   "codemirror_mode": {
    "name": "ipython",
    "version": 3
   },
   "file_extension": ".py",
   "mimetype": "text/x-python",
   "name": "python",
   "nbconvert_exporter": "python",
   "pygments_lexer": "ipython3",
   "version": "3.10.6"
  }
 },
 "nbformat": 4,
 "nbformat_minor": 5
}
