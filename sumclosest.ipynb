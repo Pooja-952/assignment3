{
 "cells": [
  {
   "cell_type": "markdown",
   "id": "36c35567-f9d9-4e19-8302-ae361b6d86e7",
   "metadata": {},
   "source": [
    "## Q1 Given an integer array nums of length n and an integer target, find three integers\n",
    "in nums such that the sum is closest to the target.\n",
    "Return the sum of the three integers.\n",
    "You may assume that each input would have exactly one solution."
   ]
  },
  {
   "cell_type": "code",
   "execution_count": 31,
   "id": "fede8c39-1ab6-4f37-a022-85d0b75a8e42",
   "metadata": {},
   "outputs": [],
   "source": [
    "def threeSumClosest(nums, target):\n",
    "    nums.sort()\n",
    "    n= len(nums)\n",
    "    closest_sum= float('inf')\n",
    "    for i in range(n-2):\n",
    "        left= i + 1\n",
    "        right= n - 1\n",
    "        while left < right:\n",
    "            current_sum= nums[i] + nums[left] + nums[right]\n",
    "            if abs(current_sum-target) < abs(closest_sum - target) :\n",
    "                 closest_sum = current_sum\n",
    "            if current_sum> target:\n",
    "                 right-= 1\n",
    "            elif current_sum < target:\n",
    "                left += 1\n",
    "            else:\n",
    "                return current_sum\n",
    "                           \n",
    "    return closest_sum\n",
    "           "
   ]
  },
  {
   "cell_type": "code",
   "execution_count": 32,
   "id": "a3f71cfe-0c3e-463a-ab20-aaff6b35c147",
   "metadata": {},
   "outputs": [
    {
     "name": "stdout",
     "output_type": "stream",
     "text": [
      "2\n"
     ]
    }
   ],
   "source": [
    "nums = [-1,2,1,-4]\n",
    "target = 1\n",
    "result= threeSumClosest(nums, target)\n",
    "print(result)"
   ]
  },
  {
   "cell_type": "code",
   "execution_count": null,
   "id": "c4a56339-f466-4b04-b60a-48d9a471a866",
   "metadata": {},
   "outputs": [],
   "source": []
  }
 ],
 "metadata": {
  "kernelspec": {
   "display_name": "Python 3 (ipykernel)",
   "language": "python",
   "name": "python3"
  },
  "language_info": {
   "codemirror_mode": {
    "name": "ipython",
    "version": 3
   },
   "file_extension": ".py",
   "mimetype": "text/x-python",
   "name": "python",
   "nbconvert_exporter": "python",
   "pygments_lexer": "ipython3",
   "version": "3.10.6"
  }
 },
 "nbformat": 4,
 "nbformat_minor": 5
}
