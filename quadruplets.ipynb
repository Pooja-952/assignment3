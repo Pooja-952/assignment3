{
 "cells": [
  {
   "cell_type": "markdown",
   "id": "22ecfa6b-0a0e-4f5f-950a-e0cf1637ae77",
   "metadata": {},
   "source": [
    "## Q2. Given an array nums of n integers, return an array of all the unique quadruplets\n",
    "[nums[a], nums[b], nums[c], nums[d]] such that:\n",
    "           ● 0 <= a, b, c, d < n\n",
    "           ● a, b, c, and d are distinct.\n",
    "           ● nums[a] + nums[b] + nums[c] + nums[d] == target\n",
    "You may return the answer in any order."
   ]
  },
  {
   "cell_type": "code",
   "execution_count": 5,
   "id": "8440e48d-e204-4e2b-9a1a-8067f157d8b6",
   "metadata": {},
   "outputs": [],
   "source": [
    "def fourSum(nums, target):\n",
    "    nums.sort()\n",
    "    n= len(nums)\n",
    "    quadruplets= []\n",
    "    for i in range(n-3):\n",
    "        if i>0 and nums[i] == nums[n-1]:\n",
    "            continue\n",
    "        for j in range(i + 1, n - 2):\n",
    "            if j > i + 1 and nums[j] == nums[j - 1]:\n",
    "                continue\n",
    "            left = j + 1\n",
    "            right = n - 1\n",
    "            while left < right:\n",
    "                current_sum = nums[i] + nums[j] + nums[left] + nums[right]\n",
    "                if current_sum == target:\n",
    "                    quadruplets.append([nums[i], nums[j], nums[left], nums[right]])\n",
    "                    left+=1\n",
    "                    right-=1\n",
    "                    while left< right and nums[left] == nums[left -1]:\n",
    "                        left+= 1\n",
    "                        while left < right and nums[right] == nums[right + 1]:\n",
    "                            right-=1\n",
    "                elif current_sum < target:\n",
    "                    left +=1\n",
    "                else:\n",
    "                    right-= 1\n",
    "                    \n",
    "    return quadruplets                   \n",
    "        \n"
   ]
  },
  {
   "cell_type": "code",
   "execution_count": 6,
   "id": "c7e6e503-55b4-4a33-b43a-2a60b3e7295f",
   "metadata": {},
   "outputs": [
    {
     "name": "stdout",
     "output_type": "stream",
     "text": [
      "[[-2, -1, 1, 2], [-2, 0, 0, 2], [-1, 0, 0, 1]]\n"
     ]
    }
   ],
   "source": [
    "nums= [1,0,-1,0,-2,2]\n",
    "target = 0\n",
    "result= fourSum(nums, target)\n",
    "print(result)"
   ]
  },
  {
   "cell_type": "code",
   "execution_count": null,
   "id": "b3741778-59ec-4c9b-bb32-b04e525587e7",
   "metadata": {},
   "outputs": [],
   "source": []
  }
 ],
 "metadata": {
  "kernelspec": {
   "display_name": "Python 3 (ipykernel)",
   "language": "python",
   "name": "python3"
  },
  "language_info": {
   "codemirror_mode": {
    "name": "ipython",
    "version": 3
   },
   "file_extension": ".py",
   "mimetype": "text/x-python",
   "name": "python",
   "nbconvert_exporter": "python",
   "pygments_lexer": "ipython3",
   "version": "3.10.6"
  }
 },
 "nbformat": 4,
 "nbformat_minor": 5
}
