{
 "cells": [
  {
   "cell_type": "markdown",
   "id": "7c2bba83-0a10-4cd4-9167-d559b2a705c2",
   "metadata": {},
   "source": [
    "## Q6. Given a non-empty array of integers nums, every element appears twice except\n",
    "for one. Find that single one.\n",
    "You must implement a solution with a linear runtime complexity and use only\n",
    "constant extra space."
   ]
  },
  {
   "cell_type": "code",
   "execution_count": 1,
   "id": "f12dc527-c337-466a-87a9-5fc4bed5ed46",
   "metadata": {},
   "outputs": [],
   "source": [
    "def singleNumbers(num):\n",
    "    result= 0\n",
    "    for num in nums:\n",
    "        result^= num\n",
    "    return result    \n",
    "        "
   ]
  },
  {
   "cell_type": "code",
   "execution_count": 2,
   "id": "8024522a-ec3e-42f7-ba4f-7865ea53f6eb",
   "metadata": {},
   "outputs": [
    {
     "name": "stdout",
     "output_type": "stream",
     "text": [
      "1\n"
     ]
    }
   ],
   "source": [
    "nums = [2,2,1]\n",
    "result= singleNumbers(nums)\n",
    "print(result)"
   ]
  },
  {
   "cell_type": "code",
   "execution_count": null,
   "id": "1535e7dd-6c7a-41ca-9f78-f9bb36708a13",
   "metadata": {},
   "outputs": [],
   "source": []
  }
 ],
 "metadata": {
  "kernelspec": {
   "display_name": "Python 3 (ipykernel)",
   "language": "python",
   "name": "python3"
  },
  "language_info": {
   "codemirror_mode": {
    "name": "ipython",
    "version": 3
   },
   "file_extension": ".py",
   "mimetype": "text/x-python",
   "name": "python",
   "nbconvert_exporter": "python",
   "pygments_lexer": "ipython3",
   "version": "3.10.6"
  }
 },
 "nbformat": 4,
 "nbformat_minor": 5
}
