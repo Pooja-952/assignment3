{
 "cells": [
  {
   "cell_type": "markdown",
   "id": "5764e05a-0fea-4b57-9a27-dc2f48f87331",
   "metadata": {},
   "source": [
    "## Q7. You are given an inclusive range [lower, upper] and a sorted unique integer array\n",
    "nums, where all elements are within the inclusive range. A number x is considered missing if x is in the range [lower, upper] and x is not in\n",
    "nums. Return the shortest sorted list of ranges that exactly covers all the missing\n",
    "numbers. That is, no element of nums is included in any of the ranges, and each\n",
    "missing number is covered by one of the ranges."
   ]
  },
  {
   "cell_type": "code",
   "execution_count": 20,
   "id": "75cce8e8-a625-4111-b205-a7c89d72a7d2",
   "metadata": {},
   "outputs": [
    {
     "name": "stdout",
     "output_type": "stream",
     "text": [
      "['2', '4->49', '51->74', '76->99']\n"
     ]
    }
   ],
   "source": [
    "def findMissingRanges(nums, lower, upper):\n",
    "    result = []\n",
    "    start = lower\n",
    "\n",
    "    for num in nums + [upper + 1]:\n",
    "        if num > start:\n",
    "            if num - 1 == start:\n",
    "                result.append(str(start))\n",
    "            else:\n",
    "                result.append(str(start) + '->' + str(num - 1))\n",
    "        start = num + 1\n",
    "\n",
    "    return result\n",
    "nums = [0, 1, 3, 50, 75]\n",
    "lower = 0\n",
    "upper = 99\n",
    "missing_ranges = findMissingRanges(nums, lower, upper)\n",
    "print(missing_ranges)"
   ]
  },
  {
   "cell_type": "code",
   "execution_count": null,
   "id": "9477fb5a-ac5c-48a1-bc8d-9a8bbf03b90a",
   "metadata": {},
   "outputs": [],
   "source": []
  }
 ],
 "metadata": {
  "kernelspec": {
   "display_name": "Python 3 (ipykernel)",
   "language": "python",
   "name": "python3"
  },
  "language_info": {
   "codemirror_mode": {
    "name": "ipython",
    "version": 3
   },
   "file_extension": ".py",
   "mimetype": "text/x-python",
   "name": "python",
   "nbconvert_exporter": "python",
   "pygments_lexer": "ipython3",
   "version": "3.10.6"
  }
 },
 "nbformat": 4,
 "nbformat_minor": 5
}
